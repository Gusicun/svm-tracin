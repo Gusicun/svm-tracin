{
 "cells": [
  {
   "cell_type": "code",
   "execution_count": 1,
   "metadata": {},
   "outputs": [],
   "source": [
    "import numpy as np\n",
    "import pandas as pd\n",
    "import matplotlib.pyplot as plt\n",
    "from matplotlib.colors import ListedColormap\n",
    "from matplotlib.font_manager import FontProperties\n",
    "from sklearn import datasets\n",
    "from sklearn.svm import SVC\n",
    "%matplotlib inline\n",
    "font = FontProperties(fname='/Library/Fonts/Heiti.ttc')"
   ]
  },
  {
   "cell_type": "code",
   "execution_count": 2,
   "metadata": {},
   "outputs": [],
   "source": [
    "iris_data = datasets.load_iris()\n",
    "X = iris_data.data[:, [2, 3]]\n",
    "y = iris_data.target\n",
    "label_list = ['山鸢尾', '杂色鸢尾', '维吉尼亚鸢尾']"
   ]
  },
  {
   "cell_type": "code",
   "execution_count": 3,
   "metadata": {},
   "outputs": [],
   "source": [
    "def plot_decision_regions(X, y, classifier=None):\n",
    "    marker_list = ['o', 'x', 's']\n",
    "    color_list = ['r', 'b', 'g']\n",
    "    cmap = ListedColormap(color_list[:len(np.unique(y))])\n",
    "\n",
    "    x1_min, x1_max = X[:, 0].min()-1, X[:, 0].max()+1\n",
    "    x2_min, x2_max = X[:, 1].min()-1, X[:, 1].max()+1\n",
    "    t1 = np.linspace(x1_min, x1_max, 666)\n",
    "    t2 = np.linspace(x2_min, x2_max, 666)\n",
    "\n",
    "    x1, x2 = np.meshgrid(t1, t2)\n",
    "    y_hat = classifier.predict(np.array([x1.ravel(), x2.ravel()]).T)\n",
    "    y_hat = y_hat.reshape(x1.shape)\n",
    "    plt.contourf(x1, x2, y_hat, alpha=0.2, cmap=cmap)\n",
    "    plt.xlim(x1_min, x1_max)\n",
    "    plt.ylim(x2_min, x2_max)\n",
    "\n",
    "    for ind, clas in enumerate(np.unique(y)):\n",
    "        plt.scatter(X[y == clas, 0], X[y == clas, 1], alpha=0.8, s=50,\n",
    "                    c=color_list[ind], marker=marker_list[ind], label=label_list[clas])\n"
   ]
  },
  {
   "cell_type": "code",
   "execution_count": null,
   "metadata": {},
   "outputs": [],
   "source": [
    "svm = SVC(kernel='linear', random_state=1)\n",
    "svm.fit(X, y)"
   ]
  }
 ],
 "metadata": {
  "kernelspec": {
   "display_name": "Python 3",
   "language": "python",
   "name": "python3"
  },
  "language_info": {
   "codemirror_mode": {
    "name": "ipython",
    "version": 3
   },
   "file_extension": ".py",
   "mimetype": "text/x-python",
   "name": "python",
   "nbconvert_exporter": "python",
   "pygments_lexer": "ipython3",
   "version": "3.6.5"
  }
 },
 "nbformat": 4,
 "nbformat_minor": 2
}
